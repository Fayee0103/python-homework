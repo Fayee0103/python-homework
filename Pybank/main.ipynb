{
 "cells": [
  {
   "cell_type": "code",
   "execution_count": null,
   "metadata": {},
   "outputs": [],
   "source": [
    "### Import Libraries\n",
    "\n",
    "import pathlib\n",
    "from pathlib import Path \n",
    "import csv\n",
    "import pandas as pd\n",
    "\n",
    "### Creating Pybank budget data path\n",
    "budgetdata_path=\"/Users/feiyiyang/Downloads/budget_data.csv\"\n",
    "\n",
    "pd.read_csv(budgetdata_path)"
   ]
  },
  {
   "cell_type": "code",
   "execution_count": null,
   "metadata": {},
   "outputs": [],
   "source": [
    "df=pd.read_csv(budgetdata_path)\n",
    "#The total number of months included in the dataset.\n",
    "count=0\n",
    "for i in df[\"Date\"]:\n",
    "    count+=1\n",
    "print(f\"Total Months: {count}\")\n"
   ]
  },
  {
   "cell_type": "code",
   "execution_count": null,
   "metadata": {},
   "outputs": [],
   "source": [
    "#The net total amount of Profit/Losses over the entire period.\n",
    "sum=0\n",
    "for pnl in df[\"Profit/Losses\"]:\n",
    "    sum=sum+pnl\n",
    "print(f\"Total: {sum}\")"
   ]
  },
  {
   "cell_type": "code",
   "execution_count": null,
   "metadata": {},
   "outputs": [],
   "source": [
    "#The average of the changes in Profit/Losses over the entire period.\n",
    "\n",
    "# delta=0\n",
    "# sum_delta=0\n",
    "# for i in range(1,len(df[\"Profit/Losses\"])):\n",
    "#     delta = df[\"Profit/Losses\"][i] - df[\"Profit/Losses\"][i-1]\n",
    "#     sum_delta+=sum_delta+delta\n",
    "#     print(delta)\n",
    "\n",
    "average_pnl=round(sum/count,2)\n",
    "print(f\"Average Change: {average_pnl}\")"
   ]
  },
  {
   "cell_type": "code",
   "execution_count": null,
   "metadata": {},
   "outputs": [],
   "source": [
    "#The greatest increase in profits (date and amount) over the entire period.\n",
    "maximum=df[\"Profit/Losses\"][0]\n",
    "maximum_date=None\n",
    "for i in range(len(df[\"Profit/Losses\"])):\n",
    "    if maximum<df[\"Profit/Losses\"][i]:\n",
    "        maximum=df[\"Profit/Losses\"][i]\n",
    "        maximum_date=df[\"Date\"][i]\n",
    "    else:\n",
    "        maximum=maximum\n",
    "        maximum_date=maximum_date\n",
    "\n",
    "print(f\"Greatest Increase in Profits: {maximum_date} (${maximum})\")"
   ]
  },
  {
   "cell_type": "code",
   "execution_count": null,
   "metadata": {},
   "outputs": [],
   "source": [
    "#The greatest decrease in losses (date and amount) over the entire period. \n",
    "minimum=df[\"Profit/Losses\"][0]\n",
    "minimum_date=None\n",
    "for i in range(len(df[\"Profit/Losses\"])):\n",
    "    if minimum>df[\"Profit/Losses\"][i]:\n",
    "        minimum=df[\"Profit/Losses\"][i]\n",
    "        minimum_date=df[\"Date\"][i]\n",
    "    else:\n",
    "        minimum=minimum\n",
    "        minimum_date=minimum_date\n",
    "\n",
    "print(f\"Greatest Decrease in Profits: {minimum_date} (${minimum })\")"
   ]
  },
  {
   "cell_type": "code",
   "execution_count": null,
   "metadata": {},
   "outputs": [],
   "source": [
    "#Check the current directory where the Python program is executing from\n",
    "print(f\"Current Working Directory: {Path.cwd()}\")\n",
    "\n",
    "# Set output file name and write txt file\n",
    "output_path = 'output.txt'\n",
    "with open (output_path,'w') as file:\n",
    "    file.write(f\"Total Months: {count}\\n\") \n",
    "    file.write(f\"Total: {sum}\\n\")\n",
    "    file.write(f\"Average Change: {average_pnl}\\n\")\n",
    "    file.write(f\"Greatest Increase in Profits: {maximum_date} (${maximum})\\n\")\n",
    "    file.write(f\"Greatest Decrease in Profits: {minimum_date} (${minimum })\")"
   ]
  }
 ],
 "metadata": {
  "interpreter": {
   "hash": "aee8b7b246df8f9039afb4144a1f6fd8d2ca17a180786b69acc140d282b71a49"
  },
  "kernelspec": {
   "display_name": "Python 3.10.0 64-bit",
   "language": "python",
   "name": "python3"
  },
  "language_info": {
   "codemirror_mode": {
    "name": "ipython",
    "version": 3
   },
   "file_extension": ".py",
   "mimetype": "text/x-python",
   "name": "python",
   "nbconvert_exporter": "python",
   "pygments_lexer": "ipython3",
   "version": "3.7.11"
  },
  "orig_nbformat": 4
 },
 "nbformat": 4,
 "nbformat_minor": 2
}
