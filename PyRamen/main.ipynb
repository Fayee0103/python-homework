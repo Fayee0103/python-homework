{
 "cells": [
  {
   "cell_type": "code",
   "execution_count": null,
   "metadata": {},
   "outputs": [],
   "source": [
    "#Import libraries\n",
    "import csv\n",
    "from pathlib import Path\n",
    "\n",
    "#Set file paths for menu_data.csv and sales_data.csv\n",
    "menu_filepath = Path('/Users/feiyiyang/Downloads/menu_data.csv')\n",
    "sales_filepath = Path('/Users/feiyiyang/Downloads/sales_data.csv')\n",
    "\n",
    "#Initialize list objects to hold our menu and sales data\n",
    "menu = []\n",
    "sales = []\n",
    "# Initialize dict object to hold our key-value pairs of items and metrics\n",
    "report = {}\n",
    "# Initialize a row counter variable\n",
    "row_count = 0"
   ]
  },
  {
   "cell_type": "code",
   "execution_count": null,
   "metadata": {},
   "outputs": [],
   "source": [
    "# Read in the menu data into the menu list\n",
    "with open(menu_filepath,'r') as menufile:\n",
    "    menu_reader=csv.reader(menufile, delimiter=\",\")\n",
    "    menu_header=next(menu_reader)\n",
    "    print(menu_header)\n",
    "    for row in menu_reader:\n",
    "        menu.append(row)\n",
    "# Read in the menu data into the menu list\n",
    "with open(sales_filepath,'r') as salesfile:\n",
    "    sales_reader=csv.reader(salesfile, delimiter=\",\")\n",
    "    sales_header=next(sales_reader)\n",
    "    print(sales_header)\n",
    "    for row in sales_reader:\n",
    "        sales.append(row)"
   ]
  },
  {
   "cell_type": "code",
   "execution_count": null,
   "metadata": {},
   "outputs": [],
   "source": [
    "# Loop over every row in the sales list object\n",
    "# with open(sales_filepath,'r') as salesfile:\n",
    "#     sales_list=csv.reader(salesfile, delimiter=\",\")\n",
    "for row in sales:\n",
    "    \n",
    "    Line_Item_ID=row[0]\n",
    "    Date=row[1]\n",
    "    Credit_Card_Number=row[2]\n",
    "    Quantity=int(row[3])\n",
    "    Menu_Item=row[4]\n",
    "    for row2 in menu:\n",
    "        Item=row2[0]\n",
    "        Category=row2[1]\n",
    "        Description=row2[2]\n",
    "        Price=float(row2[3])\n",
    "        Cost=float(row2[4])\n",
    "        Profit=Price-Cost\n",
    "        if Menu_Item not in report.keys():\n",
    "            if Item==Menu_Item:\n",
    "                print(row2)\n",
    "                report[Menu_Item]={\"Count\":Quantity, \"Revenue\":Quantity*Price, \"Cost\":Quantity*Cost, \"Profit\":Quantity*Cost}\n",
    "        else:\n",
    "            if Item==Menu_Item:\n",
    "                report[Menu_Item][\"Count\"] += (Quantity)\n",
    "                report[Menu_Item][\"Revenue\"] += (Quantity*Price)\n",
    "                report[Menu_Item][\"Cost\"] += (Quantity*Cost)\n",
    "                report[Menu_Item][\"Profit\"] += (Quantity*Profit)\n",
    "    row_count += 1\n",
    "\n",
    "\n",
    "#Print total number of records in sales data\n",
    "print(row_count)\n"
   ]
  },
  {
   "cell_type": "code",
   "execution_count": null,
   "metadata": {},
   "outputs": [],
   "source": [
    "\n",
    "# Write out report to a text file (won't appear on the command line output)\n",
    "output_path=\"out.txt\"\n",
    "with open(output_path,'w') as file:\n",
    "    file.write(str(report))            "
   ]
  }
 ],
 "metadata": {
  "interpreter": {
   "hash": "6441f89b610d539b46f406ac2af83b1d9a505277bfe0a8e90ad5cbd2e346c017"
  },
  "kernelspec": {
   "display_name": "Python 3.7.11 ('dev')",
   "language": "python",
   "name": "python3"
  },
  "language_info": {
   "codemirror_mode": {
    "name": "ipython",
    "version": 3
   },
   "file_extension": ".py",
   "mimetype": "text/x-python",
   "name": "python",
   "nbconvert_exporter": "python",
   "pygments_lexer": "ipython3",
   "version": "3.7.11"
  },
  "orig_nbformat": 4
 },
 "nbformat": 4,
 "nbformat_minor": 2
}
